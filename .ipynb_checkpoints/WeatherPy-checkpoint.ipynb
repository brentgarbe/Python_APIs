{
 "cells": [
  {
   "cell_type": "markdown",
   "metadata": {},
   "source": [
    "# WeatherPy\n",
    "----\n",
    "\n",
    "#### Note\n",
    "* Instructions have been included for each segment. You do not have to follow them exactly, but they are included to help you think through the steps."
   ]
  },
  {
   "cell_type": "code",
   "execution_count": 1,
   "metadata": {
    "scrolled": true
   },
   "outputs": [],
   "source": [
    "# Dependencies and Setup\n",
    "import matplotlib.pyplot as plt\n",
    "import pandas as pd\n",
    "import numpy as np\n",
    "import requests\n",
    "import time\n",
    "from scipy.stats import linregress\n",
    "\n",
    "# Import API key\n",
    "from api_keys import weather_api_key\n",
    "\n",
    "\n",
    "# Incorporated citipy to determine city based on latitude and longitude\n",
    "from citipy import citipy\n",
    "\n",
    "# Output File (CSV)\n",
    "output_data_file = \"output_data/cities.csv\"\n",
    "\n",
    "# Range of latitudes and longitudes\n",
    "lat_range = (-90, 90)\n",
    "lng_range = (-180, 180)"
   ]
  },
  {
   "cell_type": "markdown",
   "metadata": {},
   "source": [
    "## Generate Cities List"
   ]
  },
  {
   "cell_type": "code",
   "execution_count": 2,
   "metadata": {},
   "outputs": [
    {
     "data": {
      "text/plain": [
       "626"
      ]
     },
     "execution_count": 2,
     "metadata": {},
     "output_type": "execute_result"
    }
   ],
   "source": [
    "# List for holding lat_lngs and cities\n",
    "lat_lngs = []\n",
    "cities = []\n",
    "\n",
    "# Create a set of random lat and lng combinations\n",
    "lats = np.random.uniform(low=-90.000, high=90.000, size=1500)\n",
    "lngs = np.random.uniform(low=-180.000, high=180.000, size=1500)\n",
    "lat_lngs = zip(lats, lngs)\n",
    "\n",
    "# Identify nearest city for each lat, lng combination\n",
    "for lat_lng in lat_lngs:\n",
    "    city = citipy.nearest_city(lat_lng[0], lat_lng[1]).city_name\n",
    "    \n",
    "    # If the city is unique, then add it to a our cities list\n",
    "    if city not in cities:\n",
    "        cities.append(city)\n",
    "\n",
    "# Print the city count to confirm sufficient count\n",
    "len(cities)\n"
   ]
  },
  {
   "cell_type": "markdown",
   "metadata": {},
   "source": [
    "### Perform API Calls\n",
    "* Perform a weather check on each city using a series of successive API calls.\n",
    "* Include a print log of each city as it'sbeing processed (with the city number and city name).\n"
   ]
  },
  {
   "cell_type": "code",
   "execution_count": null,
   "metadata": {},
   "outputs": [
    {
     "name": "stdout",
     "output_type": "stream",
     "text": [
      "The city is rikitea. This is city 1 of 626\n",
      "The city is norman wells. This is city 2 of 626\n",
      "The city is barrow. This is city 3 of 626\n",
      "The city is carballo. This is city 4 of 626\n",
      "The city is beringovskiy. This is city 5 of 626\n",
      "The city is tuktoyaktuk. This is city 6 of 626\n",
      "The city is bathsheba. This is city 7 of 626\n",
      "The city is constitucion. This is city 8 of 626\n",
      "The city is souillac. This is city 9 of 626\n",
      "The city is zalantun. This is city 10 of 626\n",
      "The city is nizhneyansk. This is city 11 of 626\n",
      "The city is aklavik. This is city 12 of 626\n",
      "The city is palmer. This is city 13 of 626\n",
      "The city is punta arenas. This is city 14 of 626\n",
      "The city is ayios thomas. This is city 15 of 626\n",
      "The city is avarua. This is city 16 of 626\n",
      "The city is atuona. This is city 17 of 626\n",
      "The city is mataura. This is city 18 of 626\n",
      "The city is cap malheureux. This is city 19 of 626\n",
      "The city is vardo. This is city 20 of 626\n",
      "The city is port alfred. This is city 21 of 626\n",
      "The city is hermanus. This is city 22 of 626\n",
      "The city is vasilsursk. This is city 23 of 626\n",
      "The city is mama. This is city 24 of 626\n",
      "The city is upernavik. This is city 25 of 626\n",
      "The city is busselton. This is city 26 of 626\n",
      "The city is portmore. This is city 27 of 626\n",
      "The city is hobart. This is city 28 of 626\n",
      "The city is sallanches. This is city 29 of 626\n",
      "The city is bengkulu. This is city 30 of 626\n",
      "The city is albany. This is city 31 of 626\n",
      "The city is tabou. This is city 32 of 626\n",
      "The city is kapaa. This is city 33 of 626\n",
      "The city is magadan. This is city 34 of 626\n",
      "The city is walvis bay. This is city 35 of 626\n",
      "The city is zaysan. This is city 36 of 626\n",
      "The city is bitung. This is city 37 of 626\n",
      "The city is tasiilaq. This is city 38 of 626\n",
      "The city is fortuna. This is city 39 of 626\n",
      "The city is arraial do cabo. This is city 40 of 626\n",
      "The city is ushuaia. This is city 41 of 626\n",
      "The city is isla vista. This is city 42 of 626\n",
      "The city is dingle. This is city 43 of 626\n",
      "The city is bonthe. This is city 44 of 626\n",
      "The city is barentsburg. This is city 45 of 626\n",
      "The city is guerrero negro. This is city 46 of 626\n",
      "The city is codrington. This is city 47 of 626\n",
      "The city is sioux lookout. This is city 48 of 626\n",
      "The city is tura. This is city 49 of 626\n",
      "The city is sterlibashevo. This is city 50 of 626\n",
      "The city is flinders. This is city 51 of 626\n",
      "The city is ribeira grande. This is city 52 of 626\n",
      "The city is koumac. This is city 53 of 626\n",
      "The city is batemans bay. This is city 54 of 626\n",
      "The city is nizwa. This is city 55 of 626\n",
      "The city is port elizabeth. This is city 56 of 626\n",
      "The city is cherskiy. This is city 57 of 626\n",
      "The city is kavaratti. This is city 58 of 626\n",
      "The city is marcona. This is city 59 of 626\n",
      "The city is kamenka. This is city 60 of 626\n",
      "The city is ballina. This is city 61 of 626\n",
      "The city is zhifang. This is city 62 of 626\n",
      "The city is bokspits. This is city 63 of 626\n",
      "The city is likasi. This is city 64 of 626\n",
      "The city is hilo. This is city 65 of 626\n",
      "The city is lazarev. This is city 66 of 626\n",
      "The city is katsuura. This is city 67 of 626\n",
      "The city is clyde river. This is city 68 of 626\n",
      "The city is tharrawaddy. This is city 69 of 626\n",
      "The city is new norfolk. This is city 70 of 626\n",
      "The city is butaritari. This is city 71 of 626\n",
      "The city is pangnirtung. This is city 72 of 626\n",
      "The city is coquimbo. This is city 73 of 626\n",
      "The city is illoqqortoormiut. This is city 74 of 626\n",
      "The city is vaitupu. This is city 75 of 626\n",
      "The city is nizhniy tsasuchey. This is city 76 of 626\n",
      "The city is cockburn town. This is city 77 of 626\n",
      "The city is kodiak. This is city 78 of 626\n",
      "The city is bambous virieux. This is city 79 of 626\n",
      "The city is ixtapa. This is city 80 of 626\n",
      "The city is bluff. This is city 81 of 626\n",
      "The city is nishihara. This is city 82 of 626\n",
      "The city is itanhem. This is city 83 of 626\n",
      "The city is wrzesnia. This is city 84 of 626\n",
      "The city is amderma. This is city 85 of 626\n",
      "The city is pangai. This is city 86 of 626\n",
      "The city is berlevag. This is city 87 of 626\n",
      "The city is vaini. This is city 88 of 626\n",
      "The city is pa daet. This is city 89 of 626\n",
      "The city is qaanaaq. This is city 90 of 626\n",
      "The city is jose de freitas. This is city 91 of 626\n",
      "The city is olafsvik. This is city 92 of 626\n",
      "The city is marmarion. This is city 93 of 626\n",
      "The city is carnarvon. This is city 94 of 626\n",
      "The city is barcelos. This is city 95 of 626\n",
      "The city is puerto ayora. This is city 96 of 626\n",
      "The city is ambatondrazaka. This is city 97 of 626\n",
      "The city is yellowknife. This is city 98 of 626\n",
      "The city is samusu. This is city 99 of 626\n",
      "The city is bredasdorp. This is city 100 of 626\n",
      "The city is manakara. This is city 101 of 626\n",
      "The city is nikolskoye. This is city 102 of 626\n",
      "The city is mys shmidta. This is city 103 of 626\n",
      "The city is kurilsk. This is city 104 of 626\n",
      "The city is cape town. This is city 105 of 626\n",
      "The city is rocha. This is city 106 of 626\n",
      "The city is antofagasta. This is city 107 of 626\n",
      "The city is dandong. This is city 108 of 626\n",
      "The city is isangel. This is city 109 of 626\n",
      "The city is mandera. This is city 110 of 626\n",
      "The city is vila franca do campo. This is city 111 of 626\n",
      "The city is beruwala. This is city 112 of 626\n",
      "The city is bandiagara. This is city 113 of 626\n",
      "The city is bandarbeyla. This is city 114 of 626\n",
      "The city is mayor pablo lagerenza. This is city 115 of 626\n",
      "The city is griffith. This is city 116 of 626\n",
      "The city is hithadhoo. This is city 117 of 626\n",
      "The city is howard springs. This is city 118 of 626\n"
     ]
    }
   ],
   "source": [
    "url = \"http://api.openweathermap.org/data/2.5/weather?\"\n",
    "#cit = cities\n",
    "units = 'Imperial'\n",
    "counts = 1\n",
    "\n",
    "city_df = pd.DataFrame()\n",
    "\n",
    "city_df['Cloudiness'] = \"\"\n",
    "city_df['Country'] = \"\"\n",
    "city_df['Humidity'] = \"\"\n",
    "city_df['Lat'] = \"\"\n",
    "city_df['Lng'] = \"\"\n",
    "city_df['Max Temp'] = \"\"\n",
    "city_df['Wind Speed'] = \"\"\n",
    "\n",
    "\n",
    "#or cit,row in city_df.iterrows():\n",
    "for cit in cities:    \n",
    "    \n",
    "    query_url = url + \"appid=\" + weather_api_key + \"&q=\" + cit + \"&units=\" + units\n",
    "    weather = requests.get(query_url)\n",
    "    weatherjson = weather.json()\n",
    "       \n",
    "    try:\n",
    "        country = weatherjson['sys']['country']\n",
    "        city_df.loc[cit,'Country'] = country\n",
    "    except:\n",
    "        city_df.loc[cit,'Country'] = \"\"\n",
    "    \n",
    "    try:\n",
    "        max_temp = weatherjson['main']['temp_max']\n",
    "        city_df.loc[cit,'Max Temp'] = max_temp\n",
    "    except:\n",
    "        city_df.loc[cit,'Max Temp'] = \"\"\n",
    "    \n",
    "    try:\n",
    "        clouds = weatherjson['clouds']['all']\n",
    "        city_df.loc[cit,'Cloudiness'] = clouds\n",
    "    except:\n",
    "        city_df.loc[cit,'Cloudiness'] = \"\"\n",
    "    \n",
    "    try:\n",
    "        windspeed = weatherjson['wind']['speed']\n",
    "        city_df.loc[cit,'Wind Speed'] = windspeed\n",
    "    except:\n",
    "        city_df.loc[cit,'Wind Speed'] = \"\"\n",
    "    \n",
    "    try:\n",
    "        humidity = weatherjson['main']['humidity']\n",
    "        city_df.loc[cit,'Humidity'] = humidity\n",
    "    except:\n",
    "        city_df.loc[cit,'Humidity'] = \"\"\n",
    "    \n",
    "    try:\n",
    "        lat = weatherjson['coord']['lat']\n",
    "        city_df.loc[cit,'Lat'] = lat\n",
    "    except:\n",
    "        city_df.loc[cit,'Lat'] = \"\"\n",
    "    \n",
    "    try:\n",
    "        lon = weatherjson['coord']['lon']\n",
    "        city_df.loc[cit,'Lng'] = lon\n",
    "    except:\n",
    "        city_df.loc[cit,'Lng'] = \"\"\n",
    "    \n",
    "    print(f'The city is {cit}. This is city {counts} of {len(cities)}')\n",
    "    counts = counts + 1 \n",
    "    "
   ]
  },
  {
   "cell_type": "markdown",
   "metadata": {},
   "source": [
    "### Convert Raw Data to DataFrame\n",
    "* Export the city data into a .csv.\n",
    "* Display the DataFrame"
   ]
  },
  {
   "cell_type": "code",
   "execution_count": null,
   "metadata": {
    "scrolled": true
   },
   "outputs": [],
   "source": [
    "city_df.to_csv(\"cities.csv\",index = True)\n",
    "city_df.head()"
   ]
  },
  {
   "cell_type": "code",
   "execution_count": null,
   "metadata": {},
   "outputs": [],
   "source": [
    "#Converting everything to numerical values for plots,\n",
    "city_df.dropna()\n",
    "city_df['Lat'] = pd.to_numeric(city_df['Lat'])\n",
    "city_df['Lng'] = pd.to_numeric(city_df['Lng'])\n",
    "city_df['Max Temp'] = pd.to_numeric(city_df['Max Temp'])\n",
    "city_df['Wind Speed'] = pd.to_numeric(city_df['Wind Speed'])\n",
    "city_df['Cloudiness'] = pd.to_numeric(city_df['Cloudiness'])\n",
    "city_df['Humidity'] = pd.to_numeric(city_df['Humidity'])\n"
   ]
  },
  {
   "cell_type": "markdown",
   "metadata": {},
   "source": [
    "### Plotting the Data\n",
    "* Use proper labeling of the plots using plot titles (including date of analysis) and axes labels.\n",
    "* Save the plotted figures as .pngs."
   ]
  },
  {
   "cell_type": "markdown",
   "metadata": {},
   "source": [
    "#### Latitude vs. Temperature Plot"
   ]
  },
  {
   "cell_type": "code",
   "execution_count": null,
   "metadata": {
    "scrolled": true
   },
   "outputs": [],
   "source": [
    "lat = city_df['Lat']\n",
    "temp = city_df['Max Temp']\n",
    "plt.scatter(lat,temp, marker = 'o', facecolors = 'darkblue', alpha = 0.6)\n",
    "plt.xlabel('Latitude')\n",
    "plt.ylabel('Max Temperature, F')\n",
    "plt.title('Latitude vs Temperature')\n",
    "plt.show"
   ]
  },
  {
   "cell_type": "markdown",
   "metadata": {},
   "source": [
    "#### Latitude vs. Humidity Plot"
   ]
  },
  {
   "cell_type": "code",
   "execution_count": null,
   "metadata": {},
   "outputs": [],
   "source": [
    "lat = city_df[\"Lat\"]\n",
    "hum = city_df['Humidity']\n",
    "plt.scatter(lat,hum, marker = 'o', facecolors = 'darkblue', alpha = 0.6)\n",
    "plt.xlabel('Latitude')\n",
    "plt.ylabel('Humidity, %')\n",
    "plt.title('Latitude vs Humidity')\n",
    "plt.show"
   ]
  },
  {
   "cell_type": "markdown",
   "metadata": {},
   "source": [
    "#### Latitude vs. Cloudiness Plot"
   ]
  },
  {
   "cell_type": "code",
   "execution_count": null,
   "metadata": {},
   "outputs": [],
   "source": [
    "lat = city_df[\"Lat\"]\n",
    "clds = city_df['Cloudiness']\n",
    "plt.scatter(lat,clds, marker = 'o', facecolors = 'darkblue', alpha = 0.6)\n",
    "plt.xlabel('Latitude')\n",
    "plt.ylabel('Cloudiness, %')\n",
    "plt.title('Latitude vs Cloudiness')\n",
    "plt.show"
   ]
  },
  {
   "cell_type": "markdown",
   "metadata": {},
   "source": [
    "#### Latitude vs. Wind Speed Plot"
   ]
  },
  {
   "cell_type": "code",
   "execution_count": null,
   "metadata": {},
   "outputs": [],
   "source": [
    "lat = city_df[\"Lat\"]\n",
    "wspd = city_df['Wind Speed']\n",
    "plt.scatter(lat,wspd, marker = 'o', facecolors = 'darkblue', alpha = 0.6)\n",
    "plt.xlabel('Latitude')\n",
    "plt.ylabel('Wind Speed, mph')\n",
    "plt.title('Latitude vs Wind Speed')\n",
    "plt.show"
   ]
  },
  {
   "cell_type": "markdown",
   "metadata": {},
   "source": [
    "## Linear Regression"
   ]
  },
  {
   "cell_type": "code",
   "execution_count": null,
   "metadata": {},
   "outputs": [],
   "source": [
    "# OPTIONAL: Create a function to create Linear Regression plots\n",
    "from scipy import stats\n",
    "def linreg(x_values,y_values):\n",
    "    #The ‘linregress’ outputs 5 items (slope, intercept, rvalue, pvalue, stderr)\n",
    "    (slope, intercept, rvalue, pvalue, stderr) = stats.linregress(x_values, y_values)\n",
    "\n",
    "    # Get regression values\n",
    "    regress_values = x_values * slope + intercept\n",
    "\n",
    "    # Create line equation string\n",
    "    line_eq = \"y = \" + str(round(slope,2)) + \"x +\" + str(round(intercept,2))\n",
    "\n",
    "    # Create Plot\n",
    "    plt.scatter(x_values,y_values)\n",
    "    plt.plot(x_values,regress_values,\"r-\")\n",
    "\n",
    "    # Label plot and annotate the line equation\n",
    "    plt.xlabel('Latitude')\n",
    "    plt.ylabel('Temperature')\n",
    "    plt.annotate(line_eq,(0,0),fontsize=15,color=\"red\")\n",
    "\n",
    "    # Print r square value\n",
    "    print(f\"The r-squared is: {rvalue}\")\n",
    "\n",
    "    # Show plot\n",
    "    plt.show()"
   ]
  },
  {
   "cell_type": "code",
   "execution_count": null,
   "metadata": {},
   "outputs": [],
   "source": [
    "# Create Northern and Southern Hemisphere DataFrames\n",
    "Ncity = city_df.loc[city_df['Lat']>=0,:]\n",
    "Scity = city_df.loc[city_df['Lat']<0,:]"
   ]
  },
  {
   "cell_type": "markdown",
   "metadata": {},
   "source": [
    "####  Northern Hemisphere - Max Temp vs. Latitude Linear Regression"
   ]
  },
  {
   "cell_type": "code",
   "execution_count": null,
   "metadata": {},
   "outputs": [],
   "source": [
    "nLat = Ncity['Lat']\n",
    "nTemp = Ncity['Max Temp']\n",
    "linreg(nLat,nTemp)"
   ]
  },
  {
   "cell_type": "markdown",
   "metadata": {},
   "source": [
    "####  Southern Hemisphere - Max Temp vs. Latitude Linear Regression"
   ]
  },
  {
   "cell_type": "code",
   "execution_count": null,
   "metadata": {},
   "outputs": [],
   "source": [
    "sLat = Scity['Lat']\n",
    "sTemp = Scity['Max Temp']\n",
    "linreg(sLat,sTemp)"
   ]
  },
  {
   "cell_type": "markdown",
   "metadata": {},
   "source": [
    "####  Northern Hemisphere - Humidity (%) vs. Latitude Linear Regression"
   ]
  },
  {
   "cell_type": "code",
   "execution_count": null,
   "metadata": {},
   "outputs": [],
   "source": [
    "nLat = Ncity['Lat']\n",
    "nHum = Ncity['Humidity']\n",
    "linreg(nLat,nHum)"
   ]
  },
  {
   "cell_type": "markdown",
   "metadata": {},
   "source": [
    "####  Southern Hemisphere - Humidity (%) vs. Latitude Linear Regression"
   ]
  },
  {
   "cell_type": "code",
   "execution_count": null,
   "metadata": {},
   "outputs": [],
   "source": [
    "sLat = Scity['Lat']\n",
    "sHum = Scity['Humidity']\n",
    "linreg(sLat,sHum)"
   ]
  },
  {
   "cell_type": "markdown",
   "metadata": {},
   "source": [
    "####  Northern Hemisphere - Cloudiness (%) vs. Latitude Linear Regression"
   ]
  },
  {
   "cell_type": "code",
   "execution_count": null,
   "metadata": {},
   "outputs": [],
   "source": [
    "nLat = Ncity['Lat']\n",
    "nCld = Ncity['Cloudiness']\n",
    "linreg(nLat,nCld)"
   ]
  },
  {
   "cell_type": "markdown",
   "metadata": {},
   "source": [
    "####  Southern Hemisphere - Cloudiness (%) vs. Latitude Linear Regression"
   ]
  },
  {
   "cell_type": "code",
   "execution_count": null,
   "metadata": {},
   "outputs": [],
   "source": [
    "sLat = Scity['Lat']\n",
    "sCld = Scity['Cloudiness']\n",
    "linreg(sLat,sCld)"
   ]
  },
  {
   "cell_type": "markdown",
   "metadata": {},
   "source": [
    "####  Northern Hemisphere - Wind Speed (mph) vs. Latitude Linear Regression"
   ]
  },
  {
   "cell_type": "code",
   "execution_count": null,
   "metadata": {},
   "outputs": [],
   "source": [
    "nLat = Ncity['Lat']\n",
    "nSpd = Ncity['Wind Speed']\n",
    "linreg(nLat,nSpd)"
   ]
  },
  {
   "cell_type": "markdown",
   "metadata": {},
   "source": [
    "####  Southern Hemisphere - Wind Speed (mph) vs. Latitude Linear Regression"
   ]
  },
  {
   "cell_type": "code",
   "execution_count": null,
   "metadata": {},
   "outputs": [],
   "source": [
    "sLat = Scity['Lat']\n",
    "sSpd = Scity['Wind Speed']\n",
    "linreg(sLat,sSpd)"
   ]
  },
  {
   "cell_type": "code",
   "execution_count": null,
   "metadata": {},
   "outputs": [],
   "source": []
  }
 ],
 "metadata": {
  "anaconda-cloud": {},
  "kernel_info": {
   "name": "python3"
  },
  "kernelspec": {
   "display_name": "Python 3",
   "language": "python",
   "name": "python3"
  },
  "language_info": {
   "codemirror_mode": {
    "name": "ipython",
    "version": 3
   },
   "file_extension": ".py",
   "mimetype": "text/x-python",
   "name": "python",
   "nbconvert_exporter": "python",
   "pygments_lexer": "ipython3",
   "version": "3.8.1"
  },
  "latex_envs": {
   "LaTeX_envs_menu_present": true,
   "autoclose": false,
   "autocomplete": true,
   "bibliofile": "biblio.bib",
   "cite_by": "apalike",
   "current_citInitial": 1,
   "eqLabelWithNumbers": true,
   "eqNumInitial": 1,
   "hotkeys": {
    "equation": "Ctrl-E",
    "itemize": "Ctrl-I"
   },
   "labels_anchors": false,
   "latex_user_defs": false,
   "report_style_numbering": false,
   "user_envs_cfg": false
  },
  "nteract": {
   "version": "0.12.3"
  }
 },
 "nbformat": 4,
 "nbformat_minor": 2
}
